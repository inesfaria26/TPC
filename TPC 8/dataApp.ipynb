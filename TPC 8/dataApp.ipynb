pip install PySimpleGUI

import PySimpleGUI as sg

import alunos as al



# Painel com duas colunas: 
# Coluna 1: menu
# Coluna 2: Dados

menu_list_column = [
    [sg.Button("Carregar BD", font=('Arial', 16))],
    [sg.Button("Listar BD", font=('Arial', 16))],
    [sg.Button("Modalidades", font=('Arial', 16))],
    [sg.Button("Distribuição por ano", font=('Arial', 16))],
    [sg.Button("Distribuição por clube", font=('Arial', 16))],
    [sg.Button("Sair")]
    
    
]

data_viewer_column = [
    [sg.Text("Painel de Dados", font=('Arial', 20))],
    [sg.Text(size=(40, 2), key="-Dados-", font=('Arial', 16))],
]

layout = [ 
    [ 
        sg.Column(menu_list_column), #vai buscar lista do menu
        sg.VSeparator(), #separador vertical
        sg.Column(data_viewer_column) # vai buscar a lista de dados
    ]
]

windowApp = sg.Window("Exames Médicos", layout, font=('Arial', 24))
import tpc8 as emd
stop = False
stop = False
while not stop:
    event, values = window.read()
    if event == "Sair" or event == sg.WIN_CLOSED:
        stop = True
    elif event == "Carregar":
        contador = emd.carregarBD()
        dados = "Foram carregados " + str(len(bd)) + " os registos."
        window["-Dados-"].update(dados)
    elif event == "Listar":  
        tabela = emd.listarDataset()
        window["-Dados-"].update(tabela)
    elif event == "Modalidades":  
        modalidades = emd.modalidades()
        window["-Dados-"].update(modalidades)
    elif event == "Por ano":  
        ano = emd.distribuicaoPorAno()
        window["-Dados-"].update(ano)
    elif event == "Por Clube":  
        clube = emd.distribuicaoPorClube()
        window["-Dados-"].update(clube)
    else:
        window["-Dados-"].update("Erro: evento desconhecido") 

