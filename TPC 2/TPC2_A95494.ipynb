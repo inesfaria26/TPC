{
 "cells": [
  {
   "cell_type": "markdown",
   "metadata": {},
   "source": [
    "## TPC2 - Algoritmos e Técnicas de Programação \n",
    "\n",
    "# Jogo de adivinhar o número que o jogador está a pensar\n",
    "\n",
    "\n",
    "* data de início: 2021-10-13\n",
    "* data do fim: 2021-10-16\n",
    "* supervisor: José Carlos Ramalho, https://ww.di.uminho.pt/~jcr/\n",
    "* Inês Faria, A95494\n",
    "* __RESUMO:__ Este trabalho tem como objetivo programar um jogo, em que o computador adivinha o número que o jogador está a pensar. É utilizada o algoritmo: procura binária.  \n",
    "\n",
    "* Assim, primeiramente, comecei por definir como variáveis: o número *mínimo* e __máximo__ que o utilizador pode escolher. Para além disso, defini __medio__ que é o número que o computador tenta adivinhar, o __intervalo__ que é a soma do máximo e do mínimo entre o intervalo de números que definimos e __resultado__ que é metade dessa mesma soma. \n",
    "\n",
    "* Deste modo, para colocar o computador como o adivinha do número que o jogador humano iria pensar, comecei por o estipular como a soma do mínimo e do máximo após cada tentativa e dividir pela sua metade. Caso o computador acerte no número, o jogador escreve \"SIM\". Caso não acerte, o jogador é questionado se o número que está a pensar é menor ou maior do que a tentativa anterior, definindo novos limites máximos e mínimos e dividindo em metade a sua soma.\n",
    "\n",
    "* Como o raciocínio baseia-se num ciclo, usei o comando while em conjuntos com operadores condicionais, nomeadamente _if_ e _elif_ .\n",
    "\n",
    "\n",
    "\n",
    "\n",
    "\n",
    "def jogo():\n",
    "    print (\"Escolhe um número entre 0 e 100: \")\n",
    "\n",
    "    maximo=100\n",
    "    minimo=0\n",
    "    resultado=0\n",
    "    while resultado ==0:\n",
    "        intervalo = maximo + minimo\n",
    "        medio = input(\"O número que pensou é o \" + str(int(intervalo/2)))\n",
    "        medio = medio.upper() #\n",
    "        if medio == \"SIM\":\n",
    "            resultado = intervalo/2\n",
    "        elif medio == \"NÃO\":\n",
    "            maiormenor = input(\"O número é maior ou menor que\" + (str(int(intervalo/2))) + \"(escreva maior ou menor)\")\n",
    "            maiormenor = maiormenor.upper()\n",
    "            if maiormenor == \"MAIOR\":\n",
    "                minimo = int((intervalo)/2)\n",
    "            elif maiormenor == \"MENOR\":\n",
    "                maximo = int((intervalo)/2)\n",
    "    n+=1\n",
    "    print (\"O seu número foi adivinhado em\" + str(n) + \"tentativas\")\n",
    "jogo()\n",
    "            "
   ]
  },
  {
   "cell_type": "code",
   "execution_count": null,
   "metadata": {},
   "outputs": [],
   "source": []
  }
 ],
 "metadata": {
  "kernelspec": {
   "display_name": "Python 3",
   "language": "python",
   "name": "python3"
  },
  "language_info": {
   "codemirror_mode": {
    "name": "ipython",
    "version": 3
   },
   "file_extension": ".py",
   "mimetype": "text/x-python",
   "name": "python",
   "nbconvert_exporter": "python",
   "pygments_lexer": "ipython3",
   "version": "3.8.3"
  }
 },
 "nbformat": 4,
 "nbformat_minor": 4
}
