{
 "cells": [
  {
   "cell_type": "code",
   "execution_count": null,
   "metadata": {},
   "outputs": [],
   "source": [
    "def menu():\n",
    "    continuar = 1\n",
    "    while continuar:\n",
    "        continuar = int(input(\"0. Sair\\n\" + \"1. Jogar novamente\\n\" ))\n",
    "        if continuar:\n",
    "           jogo()\n",
    "        else: \n",
    "            print (\"Adeus!! A sair do jogo...\") \n",
    "menu()\n",
    "\n",
    "def jogo ():\n",
    "    fósforos = 21\n",
    "    while True:\n",
    "        print (\"Quantos fósforos existem para jogar: \" , fósforos)\n",
    "        fósforos_retirados = int(input(\"Tire a quantidade de fósforos que pretende (1-4):\"))\n",
    "        if fósforos == 1:\n",
    "            print (\"Tiraste o último fósforo! Mais sorte para a próxima\")\n",
    "            break\n",
    "        if fósforos_retirados >= 5 or fósforos_retirados <= 0:\n",
    "            print (\"ERRO! Não é possível retirar essa quantidade de fósforos. \")\n",
    "            continue\n",
    "        fósforos_retirados_1 = 5 - fósforos_retirados\n",
    "        print (\"O computador retirou: \",  fósforos_retirados_1)\n",
    "        fósforos -= 5  \n",
    "\n"
   ]
  },
  {
   "cell_type": "code",
   "execution_count": null,
   "metadata": {},
   "outputs": [],
   "source": []
  },
  {
   "cell_type": "code",
   "execution_count": null,
   "metadata": {},
   "outputs": [],
   "source": []
  },
  {
   "cell_type": "code",
   "execution_count": null,
   "metadata": {},
   "outputs": [],
   "source": []
  },
  {
   "cell_type": "code",
   "execution_count": null,
   "metadata": {},
   "outputs": [],
   "source": []
  }
 ],
 "metadata": {
  "kernelspec": {
   "display_name": "Python 3",
   "language": "python",
   "name": "python3"
  },
  "language_info": {
   "codemirror_mode": {
    "name": "ipython",
    "version": 3
   },
   "file_extension": ".py",
   "mimetype": "text/x-python",
   "name": "python",
   "nbconvert_exporter": "python",
   "pygments_lexer": "ipython3",
   "version": "3.8.3"
  }
 },
 "nbformat": 4,
 "nbformat_minor": 4
}
