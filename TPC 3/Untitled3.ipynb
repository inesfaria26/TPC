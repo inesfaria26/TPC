{
 "cells": [
  {
   "cell_type": "markdown",
   "metadata": {},
   "source": [
    "## TPC 3 - Algoritmos e Técnicas de Programação\n",
    "\n",
    "# Bubble sort (Algoritmo de ordenação)\n",
    "\n",
    "    * Data de início:  2021-10-20\n",
    "    * Data do fim : 2021 - 10- 23\n",
    "    * Supervisor: José Carlos Ramalho, https://ww.di.uminho.pt/~jcr/\n",
    "    * Autor: Inês Gonçalves Faria, A95494\n",
    "    * Resumo: \n",
    "    \n",
    "        * Este trabalho tem como objetivo programar um algortimo de ordenação, bubble sort, em que é criada uma lista e cabe ao computador ordenar essa mesma lista de forma crescente. \n",
    "        \n",
    "        * Assim, primeiramente, acabei por criar uma lista, optando pela criação de uma variável n para introduzir o número de elementos que o utilizador quer na sua futura lista. De seguida, utilizei um loop \"for\" para criar uma lista com aquele mesmo número de elementos definidos anteriormente, indo adicionando cada um dos elementos que eu quero adicionar através do método append().\n",
    "        \n",
    "        * Após a criação da lista, criei uma função bubble_sort() que dará lugar à criação do algoritmo em si. Essa função recebe a lista criada anteriormente como um argumento e, deste modo, definiu-se dois loops \"for\", em que o primeiro loop corresponde à iteração da lista criada, enquanto o segundo loop itera a lista no seu todo e vai comparando dois elementos em cada iteração do primeiro loop. Desta forma, se o índice do primeiro elemento for maior que o índice do segundo elemento, eles trocam as suas posições entre si e assim sucessivamente. Por fim, chamamos a função e esta retorna a lista ordenada. Para além disso, ficámos a saber é a primeira lista, ou seja, a lista que não se encontra ordenada.\n",
    "        "
   ]
  },
  {
   "cell_type": "code",
   "execution_count": null,
   "metadata": {},
   "outputs": [],
   "source": [
    "#criar uma lista\n",
    "#ordenar a lista\n",
    "\n",
    "n = int(input(\"Introduza o número de elementos que quer na sua lista\")\n",
    "lista = []\n",
    "for i in range (n):\n",
    "    num = float(input(\"Qual é o elemento que quer adicionar: \"))\n",
    "    lista.append(num) \n",
    "print (lista) #criação da lista\n",
    "\n",
    "def bubble_sort(lista)\n",
    "#A função bubble_sort recebe a lista criada anteriormente como um argumento. Assim, definiu-se dois loops \"for\"\n",
    "    for i in range (0, len(lista)-1):         \n",
    "# O primeiro loop corresponde à lista criada (itera a lista completa)\n",
    "        \n",
    "        for j in range (len(lista)-1):\n",
    "#Segundo loop corresponde itera a lista e vai comparando os dois elementos em cada iteração do primeiro loop\n",
    "            if [lista[j] > lista [j+1]]:\n",
    "# Se o índice do primeiro valor for maior que o índice do segundo valor, trocam as suas posições entre si. E assim sucessivamente.\n",
    "                temp = lista[j]\n",
    "                lista [j] = lista [j+1]\n",
    "                lista [j+1] = temp\n",
    "    return lista\n",
    "# Chamamos a função e retorna a lista ordenada. Para além disso, ficámos a saber a lista não ordenada também.\n",
    "bubble_sort(lista)\n",
    "print (\"A lista não ordenada é: \", lista)\n",
    "print (\"A lista ordenada é: \", bubble_sort(lista))\n",
    "        \n",
    "#Notas:\n",
    "# temp variable: a temporary variable is a variable with short lifetime, usually to hold data that will soon be discarded, or before it can be placed at a more permanent memory location\n",
    "\n",
    "        \n",
    "           \n",
    "    "
   ]
  }
 ],
 "metadata": {
  "kernelspec": {
   "display_name": "Python 3",
   "language": "python",
   "name": "python3"
  },
  "language_info": {
   "codemirror_mode": {
    "name": "ipython",
    "version": 3
   },
   "file_extension": ".py",
   "mimetype": "text/x-python",
   "name": "python",
   "nbconvert_exporter": "python",
   "pygments_lexer": "ipython3",
   "version": "3.8.3"
  }
 },
 "nbformat": 4,
 "nbformat_minor": 4
}
