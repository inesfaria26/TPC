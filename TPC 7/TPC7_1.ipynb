pip install PySimpleGUI

import PySimpleGUI as sg

import TP7 as tpc7

myDataBD = []

sg.theme('BlueMono')

# Painel com duas colunas: 
# Coluna 1: menu
# Coluna 2: Dados

menu_list_column = [
    [sg.Button("Leitura de um ficheiro", font=('Arial', 16))],
    [sg.Button("Listagem de informação", font=('Arial', 16))],
    [sg.Button("Consulta de um registo", font=('Arial', 16))],
    [sg.Button("Top 10 de alunos com as médias mais altas", font=('Arial', 16))],
    [sg.Button("Distribuição por curso", font=('Arial', 16))],
    [sg.Button("Distribuição por médias", font=('Arial', 16))],
    [sg.Button("Gráfico de distribuição por curso", font=('Arial', 16))],
    [sg.Button("Gráfico de distribuição por média", font=('Arial', 16))],
    [sg.Button("Limpar BD", font=('Arial', 16))],
    [sg.Button("Sair")]
    [sg.Text(' '*30)],
    [sg.Text('Informação dos alunos na BD', font=('Arial', 16))],
    [sg.ListBox(values=[], select_mode='extended', keys='-Lista-', size = (30,6))]
]

data_viewer_column = [
    [sg.Text("Painel de Dados", font=('Arial', 20))],
    [sg.Text(size=(40, 2), key="-Dados-", font=('Arial', 16))],
]

layout = [ 
    [ 
        sg.Column(menu_list_column),
        sg.VSeparator(),
        sg.Column(data_viewer_column)
    ]
]

windowApp = sg.Window("Informação dos alunos inscritos", layout, font=('Arial', 24))

stop = False
while not stop:
    event, values = windowApp.read()
    if event == 'Sair' or event == sg.WIN_CLOSED:
        stop = True
    elif event == 'Limpar BD':
        myDataBD.clear()
        windowApp['-Dados-'].update("Os registos foram todos apagados, a sua base de dados está limpa.")
    elif event == 'Carregar BD':
        myDataBD = tpc7.carregarBD("Informação dos alunos inscritos")
        windowApp['-Dados-'].update("Foram carregadas " + str(len(myDataBD)) + " todas as informações correspondentes aos alunos inscritos na Unidade Curricular .")
        vista = []
        for p in myDataBD:
            vista.append(tpc7.lerDataset())
        windowApp['Lista'].update(vista)

