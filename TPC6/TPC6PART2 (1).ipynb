{
 "cells": [
  {
   "cell_type": "markdown",
   "metadata": {},
   "source": [
    "### Algoritmos e Técnicas de Programação\n",
    "\n",
    "# TPC 6 - Algoritmos para ver gráficos\n",
    "\n",
    "* Data de início : 2021 - 11 - 18\n",
    "* Data do fim: 2021 - 11 - 22\n",
    "* Supervisor: José Carlos Ramalho, https://ww.di.uminho.pt/~jcr/\n",
    "* Autor: Inês Gonçalves Faria, A95494\n",
    "* Resumo: Nesta segunda parte do TPC 6, o objetivo era construir módulos, de modo a sermos capazes de observar gráficos de polinómios de vários graus e com n unidades de lado. \n",
    "            \n",
    "            * Assim, no primeiro exercício, começei por estabelecer quais eram o pontos que iriam definir o quadrado com 5 unidades de lado. Para além disso, define os eixos para ser mais fácil visualizar o quadrado.\n",
    "            * No segundo exercício, o comprimento do lado do quadrado varia entre 1 e 10. Deste modo, utilizei um ciclo for para definir essa característica e utilizei o \"n\" como a varíavel que iria ser alterada entre 1 e 10.\n",
    "            * No terceiro exercício, "
   ]
  },
  {
   "cell_type": "markdown",
   "metadata": {},
   "source": [
    "#### Exercício 1: desenhar um quadrado centrado na origem com 5 unidades de lado"
   ]
  },
  {
   "cell_type": "code",
   "execution_count": 6,
   "metadata": {},
   "outputs": [
    {
     "data": {
      "image/png": "[encoded data removed]",
      "text/plain": [
       "<Figure size 432x288 with 1 Axes>"
      ]
     },
     "metadata": {
      "needs_background": "light"
     },
     "output_type": "display_data"
    }
   ],
   "source": [
    "import matplotlib.pyplot as plt\n",
    "\n",
    "x = [-2.,2.5,2.5,-2.5,-2.5]\n",
    "y = [2.5,2.5,-2.5,-2.5,2.5]\n",
    "\n",
    "plt.plot (x,y)\n",
    "plt.xlabel (\"X\")\n",
    "plt.ylabel (\"Y\")\n",
    "plt.title (\"Quadrado\")\n",
    "eixoXx = [-5,5]\n",
    "eixoXy = [0,0]\n",
    "plt.plot (eixoXx,eixoXy, label = \"eixo do x\")\n",
    "\n",
    "eixoYx = [0,0]\n",
    "eixoYy = [-5,5]\n",
    "plt.plot (eixoYx,eixoYy, label = \"eixo do Y\")\n",
    "plt.show()"
   ]
  },
  {
   "cell_type": "markdown",
   "metadata": {},
   "source": [
    "#### Exercício 2: desenha n quadrados centrados na origem com lados 1 a 10 "
   ]
  },
  {
   "cell_type": "code",
   "execution_count": 4,
   "metadata": {},
   "outputs": [
    {
     "data": {
      "image/png": "[encoded data removed]",
      "text/plain": [
       "<Figure size 432x288 with 1 Axes>"
      ]
     },
     "metadata": {
      "needs_background": "light"
     },
     "output_type": "display_data"
    }
   ],
   "source": [
    "import matplotlib.pyplot as plt\n",
    "\n",
    "for n in range (1,10):\n",
    "    x = [-n, n, n, -n, -n]\n",
    "    y = [n, n, -n, -n, n]\n",
    "    plt.plot(x, y)\n",
    "    plt.xlabel('x')\n",
    "    plt.ylabel('y')\n",
    "    plt.title('quadrados de lado n')\n",
    "    eixoXx = [-12,12]\n",
    "    eixoXy = [0,0]\n",
    "    plt.plot(eixoXx, eixoXy, label = \"eixo do X\")\n",
    "    eixoYx = [0,0] \n",
    "    eixoYy = [-12,12]\n",
    "    plt.plot(eixoYx, eixoYy, label = \"eixo do Y\")\n",
    "\n",
    "\n",
    "\n",
    "plt.plot (x,y)\n",
    "plt.xlabel (\"X\")\n",
    "plt.ylabel (\"Y\")\n",
    "plt.title (\"Quadrado\")\n",
    "\n",
    "eixoXx = [-5,5]\n",
    "eixoXy = [0,0]\n",
    "plt.plot (eixoXx,eixoXy, label = \"eixo do x\")\n",
    "\n",
    "eixoYx = [0,0]\n",
    "eixoYy = [-5,5]\n",
    "plt.plot (eixoYx,eixoYy, label = \"eixo do Y\")\n",
    "plt.show()"
   ]
  },
  {
   "cell_type": "markdown",
   "metadata": {},
   "source": [
    "#### Exercício 3: representa graficamente os seguintes polinómios\n",
    "* 2x - 5\n",
    "* x^2 - 7\n",
    "* x^3 - 2x^2 + 1\n",
    "\n",
    "Para isso:\n",
    "* Descarrega o módulo polinómio, desenvolvido pelo docente;\n",
    "* Cria um programa e define os 3 polinómios;\n",
    "* Cria uma representação£o gráfica para: x = x; y = plo(x);\n",
    "* Em que x = [-100, 100] e y = [-200, 200];\n",
    "* Visualiza os resultados e adapta a escala dos eixos para uma melhor visualização de cada polinómio."
   ]
  },
  {
   "cell_type": "code",
   "execution_count": null,
   "metadata": {},
   "outputs": [],
   "source": [
    "import polinomio as pol\n",
    "\n",
    "pol1 = pol.criarPolinomio(pol.inserirtermo(2,1), pol.inserirtermo(-5,0))\n",
    "pol2 = pol.criarPolinomio(pol.inserirtermo(1,2), pol.inserirtermo(-7,0))\n",
    "pol3 = pol.criarPolinomio(pol.inserirtermo(1,3), pol.inserirtermo(-2,2), pol.inserirtermo(1,0))\n",
    "\n",
    "pol.criarVista(polList)"
   ]
  }
 ],
 "metadata": {
  "kernelspec": {
   "display_name": "Python 3",
   "language": "python",
   "name": "python3"
  },
  "language_info": {
   "codemirror_mode": {
    "name": "ipython",
    "version": 3
   },
   "file_extension": ".py",
   "mimetype": "text/x-python",
   "name": "python",
   "nbconvert_exporter": "python",
   "pygments_lexer": "ipython3",
   "version": "3.8.3"
  }
 },
 "nbformat": 4,
 "nbformat_minor": 4
}
